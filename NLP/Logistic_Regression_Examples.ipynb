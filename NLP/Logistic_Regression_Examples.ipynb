{
  "nbformat": 4,
  "nbformat_minor": 0,
  "metadata": {
    "colab": {
      "provenance": [],
      "collapsed_sections": []
    },
    "kernelspec": {
      "name": "python3",
      "display_name": "Python 3"
    },
    "language_info": {
      "name": "python"
    },
    "accelerator": "GPU"
  },
  "cells": [
    {
      "cell_type": "code",
      "execution_count": null,
      "metadata": {
        "id": "PMaKR067GWU9"
      },
      "outputs": [],
      "source": [
        "import tensorflow as tf\n",
        "import numpy as np\n",
        "import matplotlib.pyplot as plt"
      ]
    },
    {
      "cell_type": "code",
      "source": [
        "number_of_samples = 500\n",
        "X0, Y0 = np.random.multivariate_normal([0,0], [[0.1, 0.5], [0.2, 0.4]], number_of_samples).T\n",
        "X1, Y1 = np.random.multivariate_normal([2,-1], [[0.2, 0.3], [0.4, 0.1]], number_of_samples).T\n",
        "plt.scatter(X0, Y0)\n",
        "plt.scatter(X1, Y1)\n",
        "data = np.concatenate((np.stack((X0, Y0, np.zeros(number_of_samples)), axis=1), \n",
        "                       np.stack((X1, Y1, np.ones(number_of_samples)), axis=1))).astype('float32')\n",
        "np.random.shuffle(data)\n",
        "X_train = data[:-10,:2]\n",
        "y_train = data[:-10,2].reshape(-1,1)\n",
        "\n",
        "X_test = data[-10:,:2]\n",
        "y_test = data[-10:,2].reshape(-1,1)"
      ],
      "metadata": {
        "colab": {
          "base_uri": "https://localhost:8080/",
          "height": 334
        },
        "id": "wXLKZg7_HSy0",
        "outputId": "ec3ee568-8cc9-4163-b856-2125ba55db5b"
      },
      "execution_count": null,
      "outputs": [
        {
          "output_type": "stream",
          "name": "stderr",
          "text": [
            "/usr/local/lib/python3.7/dist-packages/ipykernel_launcher.py:2: RuntimeWarning: covariance is not positive-semidefinite.\n",
            "  \n",
            "/usr/local/lib/python3.7/dist-packages/ipykernel_launcher.py:3: RuntimeWarning: covariance is not positive-semidefinite.\n",
            "  This is separate from the ipykernel package so we can avoid doing imports until\n"
          ]
        },
        {
          "output_type": "display_data",
          "data": {
            "image/png": "[encoded data removed]",
            "text/plain": [
              "<Figure size 432x288 with 1 Axes>"
            ]
          },
          "metadata": {
            "needs_background": "light"
          }
        }
      ]
    },
    {
      "cell_type": "code",
      "source": [
        "class MyModel(tf.Module):\n",
        "  def __init__(self, **kwargs):\n",
        "    super().__init__(**kwargs)\n",
        "    self.theta = tf.Variable(np.random.uniform(-1,1,size = [1,2]).astype('float32'))\n",
        "    self.c = tf.Variable(np.random.uniform(-1, 1,size = [1]).astype('float32'))\n",
        "\n",
        "  def __call__(self, x):\n",
        "    return tf.math.sigmoid(tf.matmul(x, self.theta, transpose_b = True) + self.c)\n"
      ],
      "metadata": {
        "id": "xMWiyhCJGZG-"
      },
      "execution_count": null,
      "outputs": []
    },
    {
      "cell_type": "code",
      "source": [
        "def L(y_true, y_predicted):\n",
        "  return tf.math.reduce_sum(y_true * tf.math.log(y_predicted+1e-9) + (1 - y_true) * tf.math.log(1 - y_predicted+1e-9))"
      ],
      "metadata": {
        "id": "bm-FSidAHDlr"
      },
      "execution_count": null,
      "outputs": []
    },
    {
      "cell_type": "code",
      "source": [
        "def train(model, x, y, learning_rate = 0.1):\n",
        "  with tf.GradientTape() as tape:\n",
        "    current_likelihood = L(y, model(x))\n",
        "  \n",
        "  d_theta, d_c = tape.gradient(current_likelihood, [model.theta, model.c])\n",
        "\n",
        "  model.theta.assign_add(learning_rate * d_theta)\n",
        "  model.c.assign_add(learning_rate * d_c)\n",
        "  return current_likelihood"
      ],
      "metadata": {
        "id": "utAYx1dyI-ZJ"
      },
      "execution_count": null,
      "outputs": []
    },
    {
      "cell_type": "code",
      "source": [
        "def training_loop(model, x, y, epochs, alpha):\n",
        "  for epoch in range(1, epochs+1):\n",
        "    likelihood = train(model, x, y, learning_rate = alpha)\n",
        "    if epoch %500 == 0:\n",
        "      print(likelihood)"
      ],
      "metadata": {
        "id": "cT0pCotgI-cE"
      },
      "execution_count": null,
      "outputs": []
    },
    {
      "cell_type": "code",
      "source": [
        "model = MyModel()\n",
        "training_loop(model, X_train, y_train, 5000, 0.001)\n"
      ],
      "metadata": {
        "colab": {
          "base_uri": "https://localhost:8080/"
        },
        "id": "Jn30LANzI-fM",
        "outputId": "2da9cefd-35cd-458c-b3e9-a67a031b2015"
      },
      "execution_count": null,
      "outputs": [
        {
          "output_type": "stream",
          "name": "stdout",
          "text": [
            "tf.Tensor(-25.524818, shape=(), dtype=float32)\n",
            "tf.Tensor(-21.23027, shape=(), dtype=float32)\n",
            "tf.Tensor(-19.61467, shape=(), dtype=float32)\n",
            "tf.Tensor(-18.765451, shape=(), dtype=float32)\n",
            "tf.Tensor(-18.247225, shape=(), dtype=float32)\n",
            "tf.Tensor(-17.902632, shape=(), dtype=float32)\n",
            "tf.Tensor(-17.660295, shape=(), dtype=float32)\n",
            "tf.Tensor(-17.483015, shape=(), dtype=float32)\n",
            "tf.Tensor(-17.34946, shape=(), dtype=float32)\n",
            "tf.Tensor(-17.246548, shape=(), dtype=float32)\n"
          ]
        }
      ]
    },
    {
      "cell_type": "code",
      "source": [
        "np.round(model(X_test)).reshape(10), y_test.reshape(10)"
      ],
      "metadata": {
        "colab": {
          "base_uri": "https://localhost:8080/"
        },
        "id": "JvBqCAEsca40",
        "outputId": "407df932-6a88-4901-a250-bcc17c3ba277"
      },
      "execution_count": null,
      "outputs": [
        {
          "output_type": "execute_result",
          "data": {
            "text/plain": [
              "(array([1., 1., 1., 1., 1., 1., 0., 0., 0., 0.], dtype=float32),\n",
              " array([1., 1., 1., 1., 1., 1., 0., 0., 0., 0.], dtype=float32))"
            ]
          },
          "metadata": {},
          "execution_count": 35
        }
      ]
    },
    {
      "cell_type": "code",
      "source": [],
      "metadata": {
        "id": "NGZ5N6O6e1nU"
      },
      "execution_count": null,
      "outputs": []
    }
  ]
}