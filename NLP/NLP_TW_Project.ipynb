{
  "nbformat": 4,
  "nbformat_minor": 0,
  "metadata": {
    "colab": {
      "provenance": []
    },
    "kernelspec": {
      "name": "python3",
      "display_name": "Python 3"
    },
    "language_info": {
      "name": "python"
    }
  },
  "cells": [
    {
      "cell_type": "code",
      "source": [
        "import pandas as pd"
      ],
      "metadata": {
        "id": "dJ_FKyif5upW"
      },
      "execution_count": 1,
      "outputs": []
    },
    {
      "cell_type": "code",
      "source": [
        "import tweepy\n",
        "consumer_key = \"Qa7wTBYj74oGAN9IGVIk6sXJM\"\n",
        "consumer_secret = \"OqknuLSbWXN6lJerf7toL5Ul5V6YagfRU1E40z0WlSZsMFl3OZ\"\n",
        "access_token = \"752682207127359488-xvF0uXaSesf1x7BuUUpU596MmpFXBqw\"\n",
        "access_token_secret = \"9npqXQYRXz6zvdtfkAZcz2M4xY3enLlkE2z680yEBrX2B\""
      ],
      "metadata": {
        "id": "nffGQpwm3tuK"
      },
      "execution_count": 2,
      "outputs": []
    },
    {
      "cell_type": "markdown",
      "source": [
        "# **Mine Data**"
      ],
      "metadata": {
        "id": "1qS_qX9TNpCh"
      }
    },
    {
      "cell_type": "code",
      "source": [
        "# Creating the authentication object\n",
        "auth = tweepy.OAuthHandler(consumer_key, consumer_secret)\n",
        "# Setting your access token and secret\n",
        "auth.set_access_token(access_token, access_token_secret)\n",
        "# Creating the API object while passing in auth information\n",
        "api = tweepy.API(auth) "
      ],
      "metadata": {
        "id": "Gy5Z7fmq3yui"
      },
      "execution_count": 9,
      "outputs": []
    },
    {
      "cell_type": "code",
      "source": [
        "words = \"#สิ้นสุดทางเพื่อน\"\n",
        "numtweet = 2000 #limit2000"
      ],
      "metadata": {
        "id": "0B3G_S7THGyD"
      },
      "execution_count": 10,
      "outputs": []
    },
    {
      "cell_type": "code",
      "source": [
        "df = pd.DataFrame(columns=['username',\n",
        "                            #'description',\n",
        "                            'location',\n",
        "                            #'following',\n",
        "                            #'followers',\n",
        "                            #'totaltweets',\n",
        "                            #'retweetcount',\n",
        "                            'text',\n",
        "                            'hashtags'])\n",
        "# We are using .Cursor() to search\n",
        "# through twitter for the required tweets.\n",
        "# The number of tweets can be\n",
        "# restricted using .items(number of tweets)\n",
        "tweets = tweepy.Cursor(api.search,\n",
        "                        words, lang=\"th\",\n",
        "                        wait_on_rate_limit=True,wait_on_rate_limit_notify=True,\n",
        "                        #since_id=date_since,\n",
        "                        tweet_mode='extended').items(numtweet)\n",
        "\n",
        "                               \n",
        "# .Cursor() returns an iterable object. Each item in\n",
        "# the iterator has various attributes\n",
        "# that you can access to\n",
        "# get information about each tweet\n",
        "list_tweets = [tweet for tweet in tweets]\n",
        " \n",
        "# Counter to maintain Tweet Count\n",
        "i = 1\n",
        " \n",
        "# we will iterate over each tweet in the\n",
        "# list for extracting information about each tweet\n",
        "for tweet in list_tweets:\n",
        "        username = tweet.user.screen_name\n",
        "        #description = tweet.user.description\n",
        "        location = tweet.user.location\n",
        "        #following = tweet.user.friends_count\n",
        "        #followers = tweet.user.followers_count\n",
        "        #totaltweets = tweet.user.statuses_count\n",
        "       # retweetcount = tweet.retweet_count\n",
        "        hashtags = tweet.entities['hashtags']\n",
        "\n",
        "        # Retweets can be distinguished by\n",
        "        # a retweeted_status attribute,\n",
        "        # in case it is an invalid reference,\n",
        "        # except block will be executed\n",
        "        try:\n",
        "            text = tweet.retweeted_status.full_text\n",
        "        except AttributeError:\n",
        "            text = tweet.full_text\n",
        "        hashtext = list()\n",
        "        for j in range(0, len(hashtags)):\n",
        "            hashtext.append(hashtags[j]['text'])\n",
        " \n",
        "        # Here we are appending all the\n",
        "        # extracted information in the DataFrame\n",
        "        ith_tweet = [username, #description,\n",
        "                    location, #following,\n",
        "                    #followers, totaltweets,\n",
        "                    #retweetcount, \n",
        "                     text, hashtext]\n",
        "        df.loc[len(df)] = ith_tweet\n",
        "        i = i+1"
      ],
      "metadata": {
        "id": "EMX1_Qpx5rDY",
        "colab": {
          "base_uri": "https://localhost:8080/"
        },
        "outputId": "c3a12270-50bd-4b0a-a8d2-815ad990bcfe"
      },
      "execution_count": null,
      "outputs": [
        {
          "output_type": "stream",
          "name": "stderr",
          "text": [
            "WARNING:tweepy.binder:Rate limit reached. Sleeping for: 739\n"
          ]
        }
      ]
    },
    {
      "cell_type": "code",
      "source": [
        "df"
      ],
      "metadata": {
        "id": "xV3o_L0om4P3"
      },
      "execution_count": null,
      "outputs": []
    },
    {
      "cell_type": "code",
      "source": [
        "df=df.drop(['username', 'location','hashtags'], axis=1)\n",
        "df=df.assign(Positive = 0,Negative = 0,Neutral = 0)"
      ],
      "metadata": {
        "id": "Us9OZrSBp5M-"
      },
      "execution_count": null,
      "outputs": []
    },
    {
      "cell_type": "code",
      "source": [
        "df"
      ],
      "metadata": {
        "id": "1ADJrbKTMCRG"
      },
      "execution_count": null,
      "outputs": []
    },
    {
      "cell_type": "markdown",
      "source": [
        "# **Delete Hashtag**"
      ],
      "metadata": {
        "id": "SteFrIefJQyT"
      }
    },
    {
      "cell_type": "code",
      "source": [
        "# delete hashtag\n",
        "for i in range(0,len(df.index)):\n",
        "  Str = str(df['text'].values[i])\n",
        "  temp = Str.split()\n",
        "  void = \"\"\n",
        "  for j in temp:\n",
        "    if(j.find(\"#\") == -1):\n",
        "      void = void + j\n",
        "  df.at[i,'text']=void"
      ],
      "metadata": {
        "id": "LlZFMJwdIIy8"
      },
      "execution_count": null,
      "outputs": []
    },
    {
      "cell_type": "code",
      "source": [
        "df"
      ],
      "metadata": {
        "colab": {
          "base_uri": "https://localhost:8080/",
          "height": 424
        },
        "id": "VhD_h-k7I3Ug",
        "outputId": "18c15e12-63f7-42b7-d724-b7bbbae31d4c"
      },
      "execution_count": null,
      "outputs": [
        {
          "output_type": "execute_result",
          "data": {
            "text/plain": [
              "                                                   text  Positive  Negative  \\\n",
              "0     นางเรียนม.กรุงเทพละถ้าทุกคนไปแจ้งความแล้วเอาใบ...         0         0   \n",
              "1     โดนโกงออนไลน์8,000บาทไปแจ้งความดำเนินคดีถึงที่...         0         0   \n",
              "2     กิจกรรมพิเศษทายผลฟุตบอลบอลโลกลุ้นแจ็คพอตใหญ่กั...         0         0   \n",
              "3     น้องชื่อHopperอายุ3ปีเพศผู้ไม่แน่ใจว่าหลงมาหรื...         0         0   \n",
              "4     นางเรียนม.กรุงเทพละถ้าทุกคนไปแจ้งความแล้วเอาใบ...         0         0   \n",
              "...                                                 ...       ...       ...   \n",
              "1995  เอาเงินกูคืนมาอีเวรโดนโกงตั้งแต่ปีหนึ่งตอนนี้ก...         0         0   \n",
              "1996  นางเรียนม.กรุงเทพละถ้าทุกคนไปแจ้งความแล้วเอาใบ...         0         0   \n",
              "1997  คือกูเข้าแท็กอยากรู้ว่ามันคือใครทำไรแต่กูต้องม...         0         0   \n",
              "1998  เราจึงได้มีการสอบถามเรื่องคลิปและความเชื่อมโยง...         0         0   \n",
              "1999  สวัสดีค่ะเราเป็นอีกหนึ่งคนที่เคยสนิทกับรู้จักพ...         0         0   \n",
              "\n",
              "      Neutral  \n",
              "0           0  \n",
              "1           0  \n",
              "2           0  \n",
              "3           0  \n",
              "4           0  \n",
              "...       ...  \n",
              "1995        0  \n",
              "1996        0  \n",
              "1997        0  \n",
              "1998        0  \n",
              "1999        0  \n",
              "\n",
              "[2000 rows x 4 columns]"
            ],
            "text/html": [
              "\n",
              "  <div id=\"df-56836d4a-ca60-4937-a809-3a28f78b1bd7\">\n",
              "    <div class=\"colab-df-container\">\n",
              "      <div>\n",
              "<style scoped>\n",
              "    .dataframe tbody tr th:only-of-type {\n",
              "        vertical-align: middle;\n",
              "    }\n",
              "\n",
              "    .dataframe tbody tr th {\n",
              "        vertical-align: top;\n",
              "    }\n",
              "\n",
              "    .dataframe thead th {\n",
              "        text-align: right;\n",
              "    }\n",
              "</style>\n",
              "<table border=\"1\" class=\"dataframe\">\n",
              "  <thead>\n",
              "    <tr style=\"text-align: right;\">\n",
              "      <th></th>\n",
              "      <th>text</th>\n",
              "      <th>Positive</th>\n",
              "      <th>Negative</th>\n",
              "      <th>Neutral</th>\n",
              "    </tr>\n",
              "  </thead>\n",
              "  <tbody>\n",
              "    <tr>\n",
              "      <th>0</th>\n",
              "      <td>นางเรียนม.กรุงเทพละถ้าทุกคนไปแจ้งความแล้วเอาใบ...</td>\n",
              "      <td>0</td>\n",
              "      <td>0</td>\n",
              "      <td>0</td>\n",
              "    </tr>\n",
              "    <tr>\n",
              "      <th>1</th>\n",
              "      <td>โดนโกงออนไลน์8,000บาทไปแจ้งความดำเนินคดีถึงที่...</td>\n",
              "      <td>0</td>\n",
              "      <td>0</td>\n",
              "      <td>0</td>\n",
              "    </tr>\n",
              "    <tr>\n",
              "      <th>2</th>\n",
              "      <td>กิจกรรมพิเศษทายผลฟุตบอลบอลโลกลุ้นแจ็คพอตใหญ่กั...</td>\n",
              "      <td>0</td>\n",
              "      <td>0</td>\n",
              "      <td>0</td>\n",
              "    </tr>\n",
              "    <tr>\n",
              "      <th>3</th>\n",
              "      <td>น้องชื่อHopperอายุ3ปีเพศผู้ไม่แน่ใจว่าหลงมาหรื...</td>\n",
              "      <td>0</td>\n",
              "      <td>0</td>\n",
              "      <td>0</td>\n",
              "    </tr>\n",
              "    <tr>\n",
              "      <th>4</th>\n",
              "      <td>นางเรียนม.กรุงเทพละถ้าทุกคนไปแจ้งความแล้วเอาใบ...</td>\n",
              "      <td>0</td>\n",
              "      <td>0</td>\n",
              "      <td>0</td>\n",
              "    </tr>\n",
              "    <tr>\n",
              "      <th>...</th>\n",
              "      <td>...</td>\n",
              "      <td>...</td>\n",
              "      <td>...</td>\n",
              "      <td>...</td>\n",
              "    </tr>\n",
              "    <tr>\n",
              "      <th>1995</th>\n",
              "      <td>เอาเงินกูคืนมาอีเวรโดนโกงตั้งแต่ปีหนึ่งตอนนี้ก...</td>\n",
              "      <td>0</td>\n",
              "      <td>0</td>\n",
              "      <td>0</td>\n",
              "    </tr>\n",
              "    <tr>\n",
              "      <th>1996</th>\n",
              "      <td>นางเรียนม.กรุงเทพละถ้าทุกคนไปแจ้งความแล้วเอาใบ...</td>\n",
              "      <td>0</td>\n",
              "      <td>0</td>\n",
              "      <td>0</td>\n",
              "    </tr>\n",
              "    <tr>\n",
              "      <th>1997</th>\n",
              "      <td>คือกูเข้าแท็กอยากรู้ว่ามันคือใครทำไรแต่กูต้องม...</td>\n",
              "      <td>0</td>\n",
              "      <td>0</td>\n",
              "      <td>0</td>\n",
              "    </tr>\n",
              "    <tr>\n",
              "      <th>1998</th>\n",
              "      <td>เราจึงได้มีการสอบถามเรื่องคลิปและความเชื่อมโยง...</td>\n",
              "      <td>0</td>\n",
              "      <td>0</td>\n",
              "      <td>0</td>\n",
              "    </tr>\n",
              "    <tr>\n",
              "      <th>1999</th>\n",
              "      <td>สวัสดีค่ะเราเป็นอีกหนึ่งคนที่เคยสนิทกับรู้จักพ...</td>\n",
              "      <td>0</td>\n",
              "      <td>0</td>\n",
              "      <td>0</td>\n",
              "    </tr>\n",
              "  </tbody>\n",
              "</table>\n",
              "<p>2000 rows × 4 columns</p>\n",
              "</div>\n",
              "      <button class=\"colab-df-convert\" onclick=\"convertToInteractive('df-56836d4a-ca60-4937-a809-3a28f78b1bd7')\"\n",
              "              title=\"Convert this dataframe to an interactive table.\"\n",
              "              style=\"display:none;\">\n",
              "        \n",
              "  <svg xmlns=\"http://www.w3.org/2000/svg\" height=\"24px\"viewBox=\"0 0 24 24\"\n",
              "       width=\"24px\">\n",
              "    <path d=\"M0 0h24v24H0V0z\" fill=\"none\"/>\n",
              "    <path d=\"M18.56 5.44l.94 2.06.94-2.06 2.06-.94-2.06-.94-.94-2.06-.94 2.06-2.06.94zm-11 1L8.5 8.5l.94-2.06 2.06-.94-2.06-.94L8.5 2.5l-.94 2.06-2.06.94zm10 10l.94 2.06.94-2.06 2.06-.94-2.06-.94-.94-2.06-.94 2.06-2.06.94z\"/><path d=\"M17.41 7.96l-1.37-1.37c-.4-.4-.92-.59-1.43-.59-.52 0-1.04.2-1.43.59L10.3 9.45l-7.72 7.72c-.78.78-.78 2.05 0 2.83L4 21.41c.39.39.9.59 1.41.59.51 0 1.02-.2 1.41-.59l7.78-7.78 2.81-2.81c.8-.78.8-2.07 0-2.86zM5.41 20L4 18.59l7.72-7.72 1.47 1.35L5.41 20z\"/>\n",
              "  </svg>\n",
              "      </button>\n",
              "      \n",
              "  <style>\n",
              "    .colab-df-container {\n",
              "      display:flex;\n",
              "      flex-wrap:wrap;\n",
              "      gap: 12px;\n",
              "    }\n",
              "\n",
              "    .colab-df-convert {\n",
              "      background-color: #E8F0FE;\n",
              "      border: none;\n",
              "      border-radius: 50%;\n",
              "      cursor: pointer;\n",
              "      display: none;\n",
              "      fill: #1967D2;\n",
              "      height: 32px;\n",
              "      padding: 0 0 0 0;\n",
              "      width: 32px;\n",
              "    }\n",
              "\n",
              "    .colab-df-convert:hover {\n",
              "      background-color: #E2EBFA;\n",
              "      box-shadow: 0px 1px 2px rgba(60, 64, 67, 0.3), 0px 1px 3px 1px rgba(60, 64, 67, 0.15);\n",
              "      fill: #174EA6;\n",
              "    }\n",
              "\n",
              "    [theme=dark] .colab-df-convert {\n",
              "      background-color: #3B4455;\n",
              "      fill: #D2E3FC;\n",
              "    }\n",
              "\n",
              "    [theme=dark] .colab-df-convert:hover {\n",
              "      background-color: #434B5C;\n",
              "      box-shadow: 0px 1px 3px 1px rgba(0, 0, 0, 0.15);\n",
              "      filter: drop-shadow(0px 1px 2px rgba(0, 0, 0, 0.3));\n",
              "      fill: #FFFFFF;\n",
              "    }\n",
              "  </style>\n",
              "\n",
              "      <script>\n",
              "        const buttonEl =\n",
              "          document.querySelector('#df-56836d4a-ca60-4937-a809-3a28f78b1bd7 button.colab-df-convert');\n",
              "        buttonEl.style.display =\n",
              "          google.colab.kernel.accessAllowed ? 'block' : 'none';\n",
              "\n",
              "        async function convertToInteractive(key) {\n",
              "          const element = document.querySelector('#df-56836d4a-ca60-4937-a809-3a28f78b1bd7');\n",
              "          const dataTable =\n",
              "            await google.colab.kernel.invokeFunction('convertToInteractive',\n",
              "                                                     [key], {});\n",
              "          if (!dataTable) return;\n",
              "\n",
              "          const docLinkHtml = 'Like what you see? Visit the ' +\n",
              "            '<a target=\"_blank\" href=https://colab.research.google.com/notebooks/data_table.ipynb>data table notebook</a>'\n",
              "            + ' to learn more about interactive tables.';\n",
              "          element.innerHTML = '';\n",
              "          dataTable['output_type'] = 'display_data';\n",
              "          await google.colab.output.renderOutput(dataTable, element);\n",
              "          const docLink = document.createElement('div');\n",
              "          docLink.innerHTML = docLinkHtml;\n",
              "          element.appendChild(docLink);\n",
              "        }\n",
              "      </script>\n",
              "    </div>\n",
              "  </div>\n",
              "  "
            ]
          },
          "metadata": {},
          "execution_count": 210
        }
      ]
    },
    {
      "cell_type": "markdown",
      "source": [
        "# **Delete พนัน/ขายของ**"
      ],
      "metadata": {
        "id": "77YQvBruKbWr"
      }
    },
    {
      "cell_type": "code",
      "source": [
        "# delete รายได้เสริม ไม่มีค่าสมัคร ฝากร้าน\n",
        "for i in range(0,len(df.index)):\n",
        "  Str = str(df['text'].values[i])\n",
        "  if(Str.find(\"รายได้เสริม\") != -1): #found\n",
        "       df.at[i,'text']=\"\"\n",
        "  if(Str.find(\"ไม่มีค่าสมัคร\") != -1): #found\n",
        "       df.at[i,'text']=\"\"\n",
        "  if(Str.find(\"ฝากร้าน\") != -1): #found\n",
        "       df.at[i,'text']=\"\""
      ],
      "metadata": {
        "id": "B95_F8BPKeYN"
      },
      "execution_count": null,
      "outputs": []
    },
    {
      "cell_type": "code",
      "source": [
        "df"
      ],
      "metadata": {
        "colab": {
          "base_uri": "https://localhost:8080/",
          "height": 424
        },
        "id": "rAxD7kfQKmLO",
        "outputId": "d1089cff-1da9-4537-fd9d-759d982de0f0"
      },
      "execution_count": null,
      "outputs": [
        {
          "output_type": "execute_result",
          "data": {
            "text/plain": [
              "                                                   text  Positive  Negative  \\\n",
              "0     นางเรียนม.กรุงเทพละถ้าทุกคนไปแจ้งความแล้วเอาใบ...         0         0   \n",
              "1     โดนโกงออนไลน์8,000บาทไปแจ้งความดำเนินคดีถึงที่...         0         0   \n",
              "2     กิจกรรมพิเศษทายผลฟุตบอลบอลโลกลุ้นแจ็คพอตใหญ่กั...         0         0   \n",
              "3     น้องชื่อHopperอายุ3ปีเพศผู้ไม่แน่ใจว่าหลงมาหรื...         0         0   \n",
              "4     นางเรียนม.กรุงเทพละถ้าทุกคนไปแจ้งความแล้วเอาใบ...         0         0   \n",
              "...                                                 ...       ...       ...   \n",
              "1995  เอาเงินกูคืนมาอีเวรโดนโกงตั้งแต่ปีหนึ่งตอนนี้ก...         0         0   \n",
              "1996  นางเรียนม.กรุงเทพละถ้าทุกคนไปแจ้งความแล้วเอาใบ...         0         0   \n",
              "1997  คือกูเข้าแท็กอยากรู้ว่ามันคือใครทำไรแต่กูต้องม...         0         0   \n",
              "1998  เราจึงได้มีการสอบถามเรื่องคลิปและความเชื่อมโยง...         0         0   \n",
              "1999  สวัสดีค่ะเราเป็นอีกหนึ่งคนที่เคยสนิทกับรู้จักพ...         0         0   \n",
              "\n",
              "      Neutral  \n",
              "0           0  \n",
              "1           0  \n",
              "2           0  \n",
              "3           0  \n",
              "4           0  \n",
              "...       ...  \n",
              "1995        0  \n",
              "1996        0  \n",
              "1997        0  \n",
              "1998        0  \n",
              "1999        0  \n",
              "\n",
              "[2000 rows x 4 columns]"
            ],
            "text/html": [
              "\n",
              "  <div id=\"df-6a0564ce-a690-4ebd-b08c-a374d8720922\">\n",
              "    <div class=\"colab-df-container\">\n",
              "      <div>\n",
              "<style scoped>\n",
              "    .dataframe tbody tr th:only-of-type {\n",
              "        vertical-align: middle;\n",
              "    }\n",
              "\n",
              "    .dataframe tbody tr th {\n",
              "        vertical-align: top;\n",
              "    }\n",
              "\n",
              "    .dataframe thead th {\n",
              "        text-align: right;\n",
              "    }\n",
              "</style>\n",
              "<table border=\"1\" class=\"dataframe\">\n",
              "  <thead>\n",
              "    <tr style=\"text-align: right;\">\n",
              "      <th></th>\n",
              "      <th>text</th>\n",
              "      <th>Positive</th>\n",
              "      <th>Negative</th>\n",
              "      <th>Neutral</th>\n",
              "    </tr>\n",
              "  </thead>\n",
              "  <tbody>\n",
              "    <tr>\n",
              "      <th>0</th>\n",
              "      <td>นางเรียนม.กรุงเทพละถ้าทุกคนไปแจ้งความแล้วเอาใบ...</td>\n",
              "      <td>0</td>\n",
              "      <td>0</td>\n",
              "      <td>0</td>\n",
              "    </tr>\n",
              "    <tr>\n",
              "      <th>1</th>\n",
              "      <td>โดนโกงออนไลน์8,000บาทไปแจ้งความดำเนินคดีถึงที่...</td>\n",
              "      <td>0</td>\n",
              "      <td>0</td>\n",
              "      <td>0</td>\n",
              "    </tr>\n",
              "    <tr>\n",
              "      <th>2</th>\n",
              "      <td>กิจกรรมพิเศษทายผลฟุตบอลบอลโลกลุ้นแจ็คพอตใหญ่กั...</td>\n",
              "      <td>0</td>\n",
              "      <td>0</td>\n",
              "      <td>0</td>\n",
              "    </tr>\n",
              "    <tr>\n",
              "      <th>3</th>\n",
              "      <td>น้องชื่อHopperอายุ3ปีเพศผู้ไม่แน่ใจว่าหลงมาหรื...</td>\n",
              "      <td>0</td>\n",
              "      <td>0</td>\n",
              "      <td>0</td>\n",
              "    </tr>\n",
              "    <tr>\n",
              "      <th>4</th>\n",
              "      <td>นางเรียนม.กรุงเทพละถ้าทุกคนไปแจ้งความแล้วเอาใบ...</td>\n",
              "      <td>0</td>\n",
              "      <td>0</td>\n",
              "      <td>0</td>\n",
              "    </tr>\n",
              "    <tr>\n",
              "      <th>...</th>\n",
              "      <td>...</td>\n",
              "      <td>...</td>\n",
              "      <td>...</td>\n",
              "      <td>...</td>\n",
              "    </tr>\n",
              "    <tr>\n",
              "      <th>1995</th>\n",
              "      <td>เอาเงินกูคืนมาอีเวรโดนโกงตั้งแต่ปีหนึ่งตอนนี้ก...</td>\n",
              "      <td>0</td>\n",
              "      <td>0</td>\n",
              "      <td>0</td>\n",
              "    </tr>\n",
              "    <tr>\n",
              "      <th>1996</th>\n",
              "      <td>นางเรียนม.กรุงเทพละถ้าทุกคนไปแจ้งความแล้วเอาใบ...</td>\n",
              "      <td>0</td>\n",
              "      <td>0</td>\n",
              "      <td>0</td>\n",
              "    </tr>\n",
              "    <tr>\n",
              "      <th>1997</th>\n",
              "      <td>คือกูเข้าแท็กอยากรู้ว่ามันคือใครทำไรแต่กูต้องม...</td>\n",
              "      <td>0</td>\n",
              "      <td>0</td>\n",
              "      <td>0</td>\n",
              "    </tr>\n",
              "    <tr>\n",
              "      <th>1998</th>\n",
              "      <td>เราจึงได้มีการสอบถามเรื่องคลิปและความเชื่อมโยง...</td>\n",
              "      <td>0</td>\n",
              "      <td>0</td>\n",
              "      <td>0</td>\n",
              "    </tr>\n",
              "    <tr>\n",
              "      <th>1999</th>\n",
              "      <td>สวัสดีค่ะเราเป็นอีกหนึ่งคนที่เคยสนิทกับรู้จักพ...</td>\n",
              "      <td>0</td>\n",
              "      <td>0</td>\n",
              "      <td>0</td>\n",
              "    </tr>\n",
              "  </tbody>\n",
              "</table>\n",
              "<p>2000 rows × 4 columns</p>\n",
              "</div>\n",
              "      <button class=\"colab-df-convert\" onclick=\"convertToInteractive('df-6a0564ce-a690-4ebd-b08c-a374d8720922')\"\n",
              "              title=\"Convert this dataframe to an interactive table.\"\n",
              "              style=\"display:none;\">\n",
              "        \n",
              "  <svg xmlns=\"http://www.w3.org/2000/svg\" height=\"24px\"viewBox=\"0 0 24 24\"\n",
              "       width=\"24px\">\n",
              "    <path d=\"M0 0h24v24H0V0z\" fill=\"none\"/>\n",
              "    <path d=\"M18.56 5.44l.94 2.06.94-2.06 2.06-.94-2.06-.94-.94-2.06-.94 2.06-2.06.94zm-11 1L8.5 8.5l.94-2.06 2.06-.94-2.06-.94L8.5 2.5l-.94 2.06-2.06.94zm10 10l.94 2.06.94-2.06 2.06-.94-2.06-.94-.94-2.06-.94 2.06-2.06.94z\"/><path d=\"M17.41 7.96l-1.37-1.37c-.4-.4-.92-.59-1.43-.59-.52 0-1.04.2-1.43.59L10.3 9.45l-7.72 7.72c-.78.78-.78 2.05 0 2.83L4 21.41c.39.39.9.59 1.41.59.51 0 1.02-.2 1.41-.59l7.78-7.78 2.81-2.81c.8-.78.8-2.07 0-2.86zM5.41 20L4 18.59l7.72-7.72 1.47 1.35L5.41 20z\"/>\n",
              "  </svg>\n",
              "      </button>\n",
              "      \n",
              "  <style>\n",
              "    .colab-df-container {\n",
              "      display:flex;\n",
              "      flex-wrap:wrap;\n",
              "      gap: 12px;\n",
              "    }\n",
              "\n",
              "    .colab-df-convert {\n",
              "      background-color: #E8F0FE;\n",
              "      border: none;\n",
              "      border-radius: 50%;\n",
              "      cursor: pointer;\n",
              "      display: none;\n",
              "      fill: #1967D2;\n",
              "      height: 32px;\n",
              "      padding: 0 0 0 0;\n",
              "      width: 32px;\n",
              "    }\n",
              "\n",
              "    .colab-df-convert:hover {\n",
              "      background-color: #E2EBFA;\n",
              "      box-shadow: 0px 1px 2px rgba(60, 64, 67, 0.3), 0px 1px 3px 1px rgba(60, 64, 67, 0.15);\n",
              "      fill: #174EA6;\n",
              "    }\n",
              "\n",
              "    [theme=dark] .colab-df-convert {\n",
              "      background-color: #3B4455;\n",
              "      fill: #D2E3FC;\n",
              "    }\n",
              "\n",
              "    [theme=dark] .colab-df-convert:hover {\n",
              "      background-color: #434B5C;\n",
              "      box-shadow: 0px 1px 3px 1px rgba(0, 0, 0, 0.15);\n",
              "      filter: drop-shadow(0px 1px 2px rgba(0, 0, 0, 0.3));\n",
              "      fill: #FFFFFF;\n",
              "    }\n",
              "  </style>\n",
              "\n",
              "      <script>\n",
              "        const buttonEl =\n",
              "          document.querySelector('#df-6a0564ce-a690-4ebd-b08c-a374d8720922 button.colab-df-convert');\n",
              "        buttonEl.style.display =\n",
              "          google.colab.kernel.accessAllowed ? 'block' : 'none';\n",
              "\n",
              "        async function convertToInteractive(key) {\n",
              "          const element = document.querySelector('#df-6a0564ce-a690-4ebd-b08c-a374d8720922');\n",
              "          const dataTable =\n",
              "            await google.colab.kernel.invokeFunction('convertToInteractive',\n",
              "                                                     [key], {});\n",
              "          if (!dataTable) return;\n",
              "\n",
              "          const docLinkHtml = 'Like what you see? Visit the ' +\n",
              "            '<a target=\"_blank\" href=https://colab.research.google.com/notebooks/data_table.ipynb>data table notebook</a>'\n",
              "            + ' to learn more about interactive tables.';\n",
              "          element.innerHTML = '';\n",
              "          dataTable['output_type'] = 'display_data';\n",
              "          await google.colab.output.renderOutput(dataTable, element);\n",
              "          const docLink = document.createElement('div');\n",
              "          docLink.innerHTML = docLinkHtml;\n",
              "          element.appendChild(docLink);\n",
              "        }\n",
              "      </script>\n",
              "    </div>\n",
              "  </div>\n",
              "  "
            ]
          },
          "metadata": {},
          "execution_count": 212
        }
      ]
    },
    {
      "cell_type": "markdown",
      "source": [
        "# **Score**"
      ],
      "metadata": {
        "id": "7r47fXNfNwMJ"
      }
    },
    {
      "cell_type": "code",
      "source": [
        "!pip install pythainlp==2.2.6"
      ],
      "metadata": {
        "colab": {
          "base_uri": "https://localhost:8080/"
        },
        "id": "wFhJ3CpdrhSe",
        "outputId": "fc2b85d4-f433-456d-a520-8951ac8ac796"
      },
      "execution_count": null,
      "outputs": [
        {
          "output_type": "stream",
          "name": "stdout",
          "text": [
            "Looking in indexes: https://pypi.org/simple, https://us-python.pkg.dev/colab-wheels/public/simple/\n",
            "Requirement already satisfied: pythainlp==2.2.6 in /usr/local/lib/python3.7/dist-packages (2.2.6)\n",
            "Requirement already satisfied: python-crfsuite>=0.9.6 in /usr/local/lib/python3.7/dist-packages (from pythainlp==2.2.6) (0.9.8)\n",
            "Requirement already satisfied: tinydb>=3.0 in /usr/local/lib/python3.7/dist-packages (from pythainlp==2.2.6) (4.7.0)\n",
            "Requirement already satisfied: requests>=2.22.0 in /usr/local/lib/python3.7/dist-packages (from pythainlp==2.2.6) (2.23.0)\n",
            "Requirement already satisfied: idna<3,>=2.5 in /usr/local/lib/python3.7/dist-packages (from requests>=2.22.0->pythainlp==2.2.6) (2.10)\n",
            "Requirement already satisfied: certifi>=2017.4.17 in /usr/local/lib/python3.7/dist-packages (from requests>=2.22.0->pythainlp==2.2.6) (2022.9.24)\n",
            "Requirement already satisfied: chardet<4,>=3.0.2 in /usr/local/lib/python3.7/dist-packages (from requests>=2.22.0->pythainlp==2.2.6) (3.0.4)\n",
            "Requirement already satisfied: urllib3!=1.25.0,!=1.25.1,<1.26,>=1.21.1 in /usr/local/lib/python3.7/dist-packages (from requests>=2.22.0->pythainlp==2.2.6) (1.24.3)\n",
            "Requirement already satisfied: typing-extensions<5.0.0,>=3.10.0 in /usr/local/lib/python3.7/dist-packages (from tinydb>=3.0->pythainlp==2.2.6) (4.1.1)\n"
          ]
        }
      ]
    },
    {
      "cell_type": "code",
      "source": [
        "from pythainlp import word_tokenize\n",
        "\n",
        "word= []\n",
        "for i, row in df.iterrows():\n",
        "    line =\" \" + \" \".join(word_tokenize(row[\"text\"]))\n",
        "    word.append(line)"
      ],
      "metadata": {
        "id": "TCNfAgxUrZlT"
      },
      "execution_count": null,
      "outputs": []
    },
    {
      "cell_type": "code",
      "source": [
        "word[0:4]"
      ],
      "metadata": {
        "colab": {
          "base_uri": "https://localhost:8080/"
        },
        "id": "vji4u0GWrwJb",
        "outputId": "bc953dc3-5c19-4110-9cba-c52daafc10d1"
      },
      "execution_count": null,
      "outputs": [
        {
          "output_type": "execute_result",
          "data": {
            "text/plain": [
              "[' นาง เรียน ม. กรุงเทพ ละ ถ้า ทุกคน ไป แจ้งความ แล้ว เอา ใบแจ้งความ ดำเนินคดี มา ให้ ที่ มหาลัย มหาลัย จะ ให้ นาง พ้น สภาพ นักศึกษา ค่ะ แนะนำ ให้ แจ้งความ แบบ ดำเนินคดี นะคะ นาง จะ ได้ โดน เด้ง',\n",
              " ' โดน โกง ออนไลน์ 8,000 บาท ไป แจ้งความ ดำเนินคดี ถึงที่สุด ตำรวจ บอก ให้ ทำใจ คดี เป็น แสน ยัง ตาม ไม่ ได้ เพราะ ไม่ เห็น ตัวตน ผู้ขาย ตาม จับ ยาก เลย ถอน แจ้ง ความสรุป คนชั่ว รวย โกง ต่อ ตำรวจ ทำ ไร ไม่ ได้ คน ถูก โกง ได้ แต่ ทำใจ กุ ละ อยาก ผัน ตัว เป็น โจร',\n",
              " ' กิจกรรม พิเศษ ทาย ผล ฟุตบอล บอล โลก ลุ้น แจ็คพอต ใหญ่ กัน ได้ เลย !! https :// t . co / juOBrkF 25 f',\n",
              " ' น้อง ชื่อ Hopper อายุ 3 ปี เพศ ผู้ ไม่ แน่ใจ ว่า หลง มา หรือ ถูก ทิ้ง เจอ ตอน ถูก ไล่ ตี ที่ สวนสาธารณะ น้อง ไม่ ดุ เรียบร้อย ไม่ ป่วย ตอนนี้ อยู่ ที่ รพ. ใคร สนใจ ติดต่อ ที่ Line :@ vet 4. suk 33 https :// t . co / iepSgzWSCP']"
            ]
          },
          "metadata": {},
          "execution_count": 215
        }
      ]
    },
    {
      "cell_type": "code",
      "source": [
        "word[0]"
      ],
      "metadata": {
        "colab": {
          "base_uri": "https://localhost:8080/",
          "height": 53
        },
        "id": "1X06Nypu5N0D",
        "outputId": "762ee890-253c-4a29-fc8c-b95fa0201004"
      },
      "execution_count": null,
      "outputs": [
        {
          "output_type": "execute_result",
          "data": {
            "text/plain": [
              "' นาง เรียน ม. กรุงเทพ ละ ถ้า ทุกคน ไป แจ้งความ แล้ว เอา ใบแจ้งความ ดำเนินคดี มา ให้ ที่ มหาลัย มหาลัย จะ ให้ นาง พ้น สภาพ นักศึกษา ค่ะ แนะนำ ให้ แจ้งความ แบบ ดำเนินคดี นะคะ นาง จะ ได้ โดน เด้ง'"
            ],
            "application/vnd.google.colaboratory.intrinsic+json": {
              "type": "string"
            }
          },
          "metadata": {},
          "execution_count": 216
        }
      ]
    },
    {
      "cell_type": "code",
      "source": [
        "Negative = []\n",
        "Positive = []"
      ],
      "metadata": {
        "id": "lar00F_Q3Lje"
      },
      "execution_count": null,
      "outputs": []
    },
    {
      "cell_type": "code",
      "source": [
        "with open('negative_new.txt', 'r', encoding='utf-8-sig') as f:\n",
        "    NegativeNew = [line.strip() for line in f]\n",
        "with open('negative_adjectives.txt', 'r', encoding='utf-8-sig') as f:\n",
        "    NegativeAdj = [line.strip() for line in f]\n",
        "with open('negative_verbs.txt', 'r', encoding='utf-8-sig') as f:\n",
        "    NegativeVerb = [line.strip() for line in f]\n",
        "\n",
        "Negative = NegativeNew + NegativeAdj + NegativeVerb"
      ],
      "metadata": {
        "id": "MsK9-4QZ3bIK"
      },
      "execution_count": null,
      "outputs": []
    },
    {
      "cell_type": "code",
      "source": [
        "len(Negative)"
      ],
      "metadata": {
        "colab": {
          "base_uri": "https://localhost:8080/"
        },
        "id": "w_quUm6m3mAA",
        "outputId": "73f6f191-2a5d-46dd-c6cd-35843934357d"
      },
      "execution_count": null,
      "outputs": [
        {
          "output_type": "execute_result",
          "data": {
            "text/plain": [
              "1218"
            ]
          },
          "metadata": {},
          "execution_count": 219
        }
      ]
    },
    {
      "cell_type": "code",
      "source": [
        "with open('positive_new.txt', 'r', encoding='utf-8-sig') as f:\n",
        "    PositiveNew = [line.strip() for line in f]\n",
        "with open('positive_adjectives.txt', 'r', encoding='utf-8-sig') as f:\n",
        "    PositiveAdj = [line.strip() for line in f]\n",
        "with open('positive_verbs.txt', 'r', encoding='utf-8-sig') as f:\n",
        "    PositiveVerb = [line.strip() for line in f]\n",
        "\n",
        "Positive = PositiveNew + PositiveAdj + PositiveVerb"
      ],
      "metadata": {
        "id": "n06PyqsB4nkb"
      },
      "execution_count": null,
      "outputs": []
    },
    {
      "cell_type": "code",
      "source": [
        "len(Positive)"
      ],
      "metadata": {
        "colab": {
          "base_uri": "https://localhost:8080/"
        },
        "id": "2ZoKzOSL4wyF",
        "outputId": "0a566714-ad5b-4c4b-f0fe-4e04f27d74f7"
      },
      "execution_count": null,
      "outputs": [
        {
          "output_type": "execute_result",
          "data": {
            "text/plain": [
              "512"
            ]
          },
          "metadata": {},
          "execution_count": 221
        }
      ]
    },
    {
      "cell_type": "code",
      "source": [
        "def Value(word):\n",
        "  Pos_value = 0\n",
        "  Neg_value = 0\n",
        "  for i in word:\n",
        "    for j in Positive:\n",
        "      if(i==j):\n",
        "        #print(i)\n",
        "        Pos_value = Pos_value +1\n",
        "  for i in word:\n",
        "    for j in Negative:\n",
        "      if(i==j):\n",
        "        #print(i)\n",
        "        Neg_value = Neg_value +1\n",
        "  #print(Pos_value,Neg_value)\n",
        "  return Pos_value,Neg_value"
      ],
      "metadata": {
        "id": "mdts_oQ-8NC7"
      },
      "execution_count": null,
      "outputs": []
    },
    {
      "cell_type": "code",
      "source": [
        "#PosNeg = Value(word[0])"
      ],
      "metadata": {
        "id": "NvJ-qjyV7S5x"
      },
      "execution_count": null,
      "outputs": []
    },
    {
      "cell_type": "code",
      "source": [
        "#word[0]"
      ],
      "metadata": {
        "id": "M6tjYZ2q_-NO"
      },
      "execution_count": null,
      "outputs": []
    },
    {
      "cell_type": "code",
      "source": [
        "position = 0\n",
        "\n",
        "for i in word:\n",
        "  #print(i)\n",
        "  i = i.split()\n",
        "  PosNeg = Value(i)\n",
        "  Neu_value = len(i) - PosNeg[0] - PosNeg[1]\n",
        "\n",
        "  df.at[position, 'Positive'] = PosNeg[0]\n",
        "  df.at[position, 'Negative'] = PosNeg[1]\n",
        "  df.at[position, 'Neutral'] = Neu_value\n",
        "\n",
        "  position = position +1"
      ],
      "metadata": {
        "id": "1vVq4aFD-m_J"
      },
      "execution_count": null,
      "outputs": []
    },
    {
      "cell_type": "code",
      "source": [
        "df"
      ],
      "metadata": {
        "colab": {
          "base_uri": "https://localhost:8080/",
          "height": 424
        },
        "id": "hhKItrSS_zFO",
        "outputId": "fbb0642f-b370-4a34-ec19-3bc897e29ed0"
      },
      "execution_count": null,
      "outputs": [
        {
          "output_type": "execute_result",
          "data": {
            "text/plain": [
              "                                                   text  Positive  Negative  \\\n",
              "0     นางเรียนม.กรุงเทพละถ้าทุกคนไปแจ้งความแล้วเอาใบ...         2         2   \n",
              "1     โดนโกงออนไลน์8,000บาทไปแจ้งความดำเนินคดีถึงที่...         2         8   \n",
              "2     กิจกรรมพิเศษทายผลฟุตบอลบอลโลกลุ้นแจ็คพอตใหญ่กั...         0         0   \n",
              "3     น้องชื่อHopperอายุ3ปีเพศผู้ไม่แน่ใจว่าหลงมาหรื...         7         8   \n",
              "4     นางเรียนม.กรุงเทพละถ้าทุกคนไปแจ้งความแล้วเอาใบ...         2         2   \n",
              "...                                                 ...       ...       ...   \n",
              "1995  เอาเงินกูคืนมาอีเวรโดนโกงตั้งแต่ปีหนึ่งตอนนี้ก...         0         3   \n",
              "1996  นางเรียนม.กรุงเทพละถ้าทุกคนไปแจ้งความแล้วเอาใบ...         2         2   \n",
              "1997  คือกูเข้าแท็กอยากรู้ว่ามันคือใครทำไรแต่กูต้องม...         4         3   \n",
              "1998  เราจึงได้มีการสอบถามเรื่องคลิปและความเชื่อมโยง...         2         0   \n",
              "1999  สวัสดีค่ะเราเป็นอีกหนึ่งคนที่เคยสนิทกับรู้จักพ...         2         0   \n",
              "\n",
              "      Neutral  \n",
              "0          32  \n",
              "1          44  \n",
              "2          23  \n",
              "3          35  \n",
              "4          32  \n",
              "...       ...  \n",
              "1995       32  \n",
              "1996       32  \n",
              "1997       32  \n",
              "1998       69  \n",
              "1999       32  \n",
              "\n",
              "[2000 rows x 4 columns]"
            ],
            "text/html": [
              "\n",
              "  <div id=\"df-9bbfd7e5-c7f4-4798-b80e-e83fcb31bf39\">\n",
              "    <div class=\"colab-df-container\">\n",
              "      <div>\n",
              "<style scoped>\n",
              "    .dataframe tbody tr th:only-of-type {\n",
              "        vertical-align: middle;\n",
              "    }\n",
              "\n",
              "    .dataframe tbody tr th {\n",
              "        vertical-align: top;\n",
              "    }\n",
              "\n",
              "    .dataframe thead th {\n",
              "        text-align: right;\n",
              "    }\n",
              "</style>\n",
              "<table border=\"1\" class=\"dataframe\">\n",
              "  <thead>\n",
              "    <tr style=\"text-align: right;\">\n",
              "      <th></th>\n",
              "      <th>text</th>\n",
              "      <th>Positive</th>\n",
              "      <th>Negative</th>\n",
              "      <th>Neutral</th>\n",
              "    </tr>\n",
              "  </thead>\n",
              "  <tbody>\n",
              "    <tr>\n",
              "      <th>0</th>\n",
              "      <td>นางเรียนม.กรุงเทพละถ้าทุกคนไปแจ้งความแล้วเอาใบ...</td>\n",
              "      <td>2</td>\n",
              "      <td>2</td>\n",
              "      <td>32</td>\n",
              "    </tr>\n",
              "    <tr>\n",
              "      <th>1</th>\n",
              "      <td>โดนโกงออนไลน์8,000บาทไปแจ้งความดำเนินคดีถึงที่...</td>\n",
              "      <td>2</td>\n",
              "      <td>8</td>\n",
              "      <td>44</td>\n",
              "    </tr>\n",
              "    <tr>\n",
              "      <th>2</th>\n",
              "      <td>กิจกรรมพิเศษทายผลฟุตบอลบอลโลกลุ้นแจ็คพอตใหญ่กั...</td>\n",
              "      <td>0</td>\n",
              "      <td>0</td>\n",
              "      <td>23</td>\n",
              "    </tr>\n",
              "    <tr>\n",
              "      <th>3</th>\n",
              "      <td>น้องชื่อHopperอายุ3ปีเพศผู้ไม่แน่ใจว่าหลงมาหรื...</td>\n",
              "      <td>7</td>\n",
              "      <td>8</td>\n",
              "      <td>35</td>\n",
              "    </tr>\n",
              "    <tr>\n",
              "      <th>4</th>\n",
              "      <td>นางเรียนม.กรุงเทพละถ้าทุกคนไปแจ้งความแล้วเอาใบ...</td>\n",
              "      <td>2</td>\n",
              "      <td>2</td>\n",
              "      <td>32</td>\n",
              "    </tr>\n",
              "    <tr>\n",
              "      <th>...</th>\n",
              "      <td>...</td>\n",
              "      <td>...</td>\n",
              "      <td>...</td>\n",
              "      <td>...</td>\n",
              "    </tr>\n",
              "    <tr>\n",
              "      <th>1995</th>\n",
              "      <td>เอาเงินกูคืนมาอีเวรโดนโกงตั้งแต่ปีหนึ่งตอนนี้ก...</td>\n",
              "      <td>0</td>\n",
              "      <td>3</td>\n",
              "      <td>32</td>\n",
              "    </tr>\n",
              "    <tr>\n",
              "      <th>1996</th>\n",
              "      <td>นางเรียนม.กรุงเทพละถ้าทุกคนไปแจ้งความแล้วเอาใบ...</td>\n",
              "      <td>2</td>\n",
              "      <td>2</td>\n",
              "      <td>32</td>\n",
              "    </tr>\n",
              "    <tr>\n",
              "      <th>1997</th>\n",
              "      <td>คือกูเข้าแท็กอยากรู้ว่ามันคือใครทำไรแต่กูต้องม...</td>\n",
              "      <td>4</td>\n",
              "      <td>3</td>\n",
              "      <td>32</td>\n",
              "    </tr>\n",
              "    <tr>\n",
              "      <th>1998</th>\n",
              "      <td>เราจึงได้มีการสอบถามเรื่องคลิปและความเชื่อมโยง...</td>\n",
              "      <td>2</td>\n",
              "      <td>0</td>\n",
              "      <td>69</td>\n",
              "    </tr>\n",
              "    <tr>\n",
              "      <th>1999</th>\n",
              "      <td>สวัสดีค่ะเราเป็นอีกหนึ่งคนที่เคยสนิทกับรู้จักพ...</td>\n",
              "      <td>2</td>\n",
              "      <td>0</td>\n",
              "      <td>32</td>\n",
              "    </tr>\n",
              "  </tbody>\n",
              "</table>\n",
              "<p>2000 rows × 4 columns</p>\n",
              "</div>\n",
              "      <button class=\"colab-df-convert\" onclick=\"convertToInteractive('df-9bbfd7e5-c7f4-4798-b80e-e83fcb31bf39')\"\n",
              "              title=\"Convert this dataframe to an interactive table.\"\n",
              "              style=\"display:none;\">\n",
              "        \n",
              "  <svg xmlns=\"http://www.w3.org/2000/svg\" height=\"24px\"viewBox=\"0 0 24 24\"\n",
              "       width=\"24px\">\n",
              "    <path d=\"M0 0h24v24H0V0z\" fill=\"none\"/>\n",
              "    <path d=\"M18.56 5.44l.94 2.06.94-2.06 2.06-.94-2.06-.94-.94-2.06-.94 2.06-2.06.94zm-11 1L8.5 8.5l.94-2.06 2.06-.94-2.06-.94L8.5 2.5l-.94 2.06-2.06.94zm10 10l.94 2.06.94-2.06 2.06-.94-2.06-.94-.94-2.06-.94 2.06-2.06.94z\"/><path d=\"M17.41 7.96l-1.37-1.37c-.4-.4-.92-.59-1.43-.59-.52 0-1.04.2-1.43.59L10.3 9.45l-7.72 7.72c-.78.78-.78 2.05 0 2.83L4 21.41c.39.39.9.59 1.41.59.51 0 1.02-.2 1.41-.59l7.78-7.78 2.81-2.81c.8-.78.8-2.07 0-2.86zM5.41 20L4 18.59l7.72-7.72 1.47 1.35L5.41 20z\"/>\n",
              "  </svg>\n",
              "      </button>\n",
              "      \n",
              "  <style>\n",
              "    .colab-df-container {\n",
              "      display:flex;\n",
              "      flex-wrap:wrap;\n",
              "      gap: 12px;\n",
              "    }\n",
              "\n",
              "    .colab-df-convert {\n",
              "      background-color: #E8F0FE;\n",
              "      border: none;\n",
              "      border-radius: 50%;\n",
              "      cursor: pointer;\n",
              "      display: none;\n",
              "      fill: #1967D2;\n",
              "      height: 32px;\n",
              "      padding: 0 0 0 0;\n",
              "      width: 32px;\n",
              "    }\n",
              "\n",
              "    .colab-df-convert:hover {\n",
              "      background-color: #E2EBFA;\n",
              "      box-shadow: 0px 1px 2px rgba(60, 64, 67, 0.3), 0px 1px 3px 1px rgba(60, 64, 67, 0.15);\n",
              "      fill: #174EA6;\n",
              "    }\n",
              "\n",
              "    [theme=dark] .colab-df-convert {\n",
              "      background-color: #3B4455;\n",
              "      fill: #D2E3FC;\n",
              "    }\n",
              "\n",
              "    [theme=dark] .colab-df-convert:hover {\n",
              "      background-color: #434B5C;\n",
              "      box-shadow: 0px 1px 3px 1px rgba(0, 0, 0, 0.15);\n",
              "      filter: drop-shadow(0px 1px 2px rgba(0, 0, 0, 0.3));\n",
              "      fill: #FFFFFF;\n",
              "    }\n",
              "  </style>\n",
              "\n",
              "      <script>\n",
              "        const buttonEl =\n",
              "          document.querySelector('#df-9bbfd7e5-c7f4-4798-b80e-e83fcb31bf39 button.colab-df-convert');\n",
              "        buttonEl.style.display =\n",
              "          google.colab.kernel.accessAllowed ? 'block' : 'none';\n",
              "\n",
              "        async function convertToInteractive(key) {\n",
              "          const element = document.querySelector('#df-9bbfd7e5-c7f4-4798-b80e-e83fcb31bf39');\n",
              "          const dataTable =\n",
              "            await google.colab.kernel.invokeFunction('convertToInteractive',\n",
              "                                                     [key], {});\n",
              "          if (!dataTable) return;\n",
              "\n",
              "          const docLinkHtml = 'Like what you see? Visit the ' +\n",
              "            '<a target=\"_blank\" href=https://colab.research.google.com/notebooks/data_table.ipynb>data table notebook</a>'\n",
              "            + ' to learn more about interactive tables.';\n",
              "          element.innerHTML = '';\n",
              "          dataTable['output_type'] = 'display_data';\n",
              "          await google.colab.output.renderOutput(dataTable, element);\n",
              "          const docLink = document.createElement('div');\n",
              "          docLink.innerHTML = docLinkHtml;\n",
              "          element.appendChild(docLink);\n",
              "        }\n",
              "      </script>\n",
              "    </div>\n",
              "  </div>\n",
              "  "
            ]
          },
          "metadata": {},
          "execution_count": 226
        }
      ]
    },
    {
      "cell_type": "code",
      "source": [
        "df=df.assign(Score = 0)\n",
        "df['Score'] = df['Positive'] - df['Negative']"
      ],
      "metadata": {
        "id": "fxmdfnQjE9Wz"
      },
      "execution_count": null,
      "outputs": []
    },
    {
      "cell_type": "code",
      "source": [
        "df"
      ],
      "metadata": {
        "colab": {
          "base_uri": "https://localhost:8080/",
          "height": 424
        },
        "id": "2H9ZjfFzFVWF",
        "outputId": "c70c3dcf-ccda-49fc-b118-82142b122cda"
      },
      "execution_count": null,
      "outputs": [
        {
          "output_type": "execute_result",
          "data": {
            "text/plain": [
              "                                                   text  Positive  Negative  \\\n",
              "0     นางเรียนม.กรุงเทพละถ้าทุกคนไปแจ้งความแล้วเอาใบ...         2         2   \n",
              "1     โดนโกงออนไลน์8,000บาทไปแจ้งความดำเนินคดีถึงที่...         2         8   \n",
              "2     กิจกรรมพิเศษทายผลฟุตบอลบอลโลกลุ้นแจ็คพอตใหญ่กั...         0         0   \n",
              "3     น้องชื่อHopperอายุ3ปีเพศผู้ไม่แน่ใจว่าหลงมาหรื...         7         8   \n",
              "4     นางเรียนม.กรุงเทพละถ้าทุกคนไปแจ้งความแล้วเอาใบ...         2         2   \n",
              "...                                                 ...       ...       ...   \n",
              "1995  เอาเงินกูคืนมาอีเวรโดนโกงตั้งแต่ปีหนึ่งตอนนี้ก...         0         3   \n",
              "1996  นางเรียนม.กรุงเทพละถ้าทุกคนไปแจ้งความแล้วเอาใบ...         2         2   \n",
              "1997  คือกูเข้าแท็กอยากรู้ว่ามันคือใครทำไรแต่กูต้องม...         4         3   \n",
              "1998  เราจึงได้มีการสอบถามเรื่องคลิปและความเชื่อมโยง...         2         0   \n",
              "1999  สวัสดีค่ะเราเป็นอีกหนึ่งคนที่เคยสนิทกับรู้จักพ...         2         0   \n",
              "\n",
              "      Neutral  Score  \n",
              "0          32      0  \n",
              "1          44     -6  \n",
              "2          23      0  \n",
              "3          35     -1  \n",
              "4          32      0  \n",
              "...       ...    ...  \n",
              "1995       32     -3  \n",
              "1996       32      0  \n",
              "1997       32      1  \n",
              "1998       69      2  \n",
              "1999       32      2  \n",
              "\n",
              "[2000 rows x 5 columns]"
            ],
            "text/html": [
              "\n",
              "  <div id=\"df-95d18d65-cf20-4aa3-b9f3-535ffe089d1a\">\n",
              "    <div class=\"colab-df-container\">\n",
              "      <div>\n",
              "<style scoped>\n",
              "    .dataframe tbody tr th:only-of-type {\n",
              "        vertical-align: middle;\n",
              "    }\n",
              "\n",
              "    .dataframe tbody tr th {\n",
              "        vertical-align: top;\n",
              "    }\n",
              "\n",
              "    .dataframe thead th {\n",
              "        text-align: right;\n",
              "    }\n",
              "</style>\n",
              "<table border=\"1\" class=\"dataframe\">\n",
              "  <thead>\n",
              "    <tr style=\"text-align: right;\">\n",
              "      <th></th>\n",
              "      <th>text</th>\n",
              "      <th>Positive</th>\n",
              "      <th>Negative</th>\n",
              "      <th>Neutral</th>\n",
              "      <th>Score</th>\n",
              "    </tr>\n",
              "  </thead>\n",
              "  <tbody>\n",
              "    <tr>\n",
              "      <th>0</th>\n",
              "      <td>นางเรียนม.กรุงเทพละถ้าทุกคนไปแจ้งความแล้วเอาใบ...</td>\n",
              "      <td>2</td>\n",
              "      <td>2</td>\n",
              "      <td>32</td>\n",
              "      <td>0</td>\n",
              "    </tr>\n",
              "    <tr>\n",
              "      <th>1</th>\n",
              "      <td>โดนโกงออนไลน์8,000บาทไปแจ้งความดำเนินคดีถึงที่...</td>\n",
              "      <td>2</td>\n",
              "      <td>8</td>\n",
              "      <td>44</td>\n",
              "      <td>-6</td>\n",
              "    </tr>\n",
              "    <tr>\n",
              "      <th>2</th>\n",
              "      <td>กิจกรรมพิเศษทายผลฟุตบอลบอลโลกลุ้นแจ็คพอตใหญ่กั...</td>\n",
              "      <td>0</td>\n",
              "      <td>0</td>\n",
              "      <td>23</td>\n",
              "      <td>0</td>\n",
              "    </tr>\n",
              "    <tr>\n",
              "      <th>3</th>\n",
              "      <td>น้องชื่อHopperอายุ3ปีเพศผู้ไม่แน่ใจว่าหลงมาหรื...</td>\n",
              "      <td>7</td>\n",
              "      <td>8</td>\n",
              "      <td>35</td>\n",
              "      <td>-1</td>\n",
              "    </tr>\n",
              "    <tr>\n",
              "      <th>4</th>\n",
              "      <td>นางเรียนม.กรุงเทพละถ้าทุกคนไปแจ้งความแล้วเอาใบ...</td>\n",
              "      <td>2</td>\n",
              "      <td>2</td>\n",
              "      <td>32</td>\n",
              "      <td>0</td>\n",
              "    </tr>\n",
              "    <tr>\n",
              "      <th>...</th>\n",
              "      <td>...</td>\n",
              "      <td>...</td>\n",
              "      <td>...</td>\n",
              "      <td>...</td>\n",
              "      <td>...</td>\n",
              "    </tr>\n",
              "    <tr>\n",
              "      <th>1995</th>\n",
              "      <td>เอาเงินกูคืนมาอีเวรโดนโกงตั้งแต่ปีหนึ่งตอนนี้ก...</td>\n",
              "      <td>0</td>\n",
              "      <td>3</td>\n",
              "      <td>32</td>\n",
              "      <td>-3</td>\n",
              "    </tr>\n",
              "    <tr>\n",
              "      <th>1996</th>\n",
              "      <td>นางเรียนม.กรุงเทพละถ้าทุกคนไปแจ้งความแล้วเอาใบ...</td>\n",
              "      <td>2</td>\n",
              "      <td>2</td>\n",
              "      <td>32</td>\n",
              "      <td>0</td>\n",
              "    </tr>\n",
              "    <tr>\n",
              "      <th>1997</th>\n",
              "      <td>คือกูเข้าแท็กอยากรู้ว่ามันคือใครทำไรแต่กูต้องม...</td>\n",
              "      <td>4</td>\n",
              "      <td>3</td>\n",
              "      <td>32</td>\n",
              "      <td>1</td>\n",
              "    </tr>\n",
              "    <tr>\n",
              "      <th>1998</th>\n",
              "      <td>เราจึงได้มีการสอบถามเรื่องคลิปและความเชื่อมโยง...</td>\n",
              "      <td>2</td>\n",
              "      <td>0</td>\n",
              "      <td>69</td>\n",
              "      <td>2</td>\n",
              "    </tr>\n",
              "    <tr>\n",
              "      <th>1999</th>\n",
              "      <td>สวัสดีค่ะเราเป็นอีกหนึ่งคนที่เคยสนิทกับรู้จักพ...</td>\n",
              "      <td>2</td>\n",
              "      <td>0</td>\n",
              "      <td>32</td>\n",
              "      <td>2</td>\n",
              "    </tr>\n",
              "  </tbody>\n",
              "</table>\n",
              "<p>2000 rows × 5 columns</p>\n",
              "</div>\n",
              "      <button class=\"colab-df-convert\" onclick=\"convertToInteractive('df-95d18d65-cf20-4aa3-b9f3-535ffe089d1a')\"\n",
              "              title=\"Convert this dataframe to an interactive table.\"\n",
              "              style=\"display:none;\">\n",
              "        \n",
              "  <svg xmlns=\"http://www.w3.org/2000/svg\" height=\"24px\"viewBox=\"0 0 24 24\"\n",
              "       width=\"24px\">\n",
              "    <path d=\"M0 0h24v24H0V0z\" fill=\"none\"/>\n",
              "    <path d=\"M18.56 5.44l.94 2.06.94-2.06 2.06-.94-2.06-.94-.94-2.06-.94 2.06-2.06.94zm-11 1L8.5 8.5l.94-2.06 2.06-.94-2.06-.94L8.5 2.5l-.94 2.06-2.06.94zm10 10l.94 2.06.94-2.06 2.06-.94-2.06-.94-.94-2.06-.94 2.06-2.06.94z\"/><path d=\"M17.41 7.96l-1.37-1.37c-.4-.4-.92-.59-1.43-.59-.52 0-1.04.2-1.43.59L10.3 9.45l-7.72 7.72c-.78.78-.78 2.05 0 2.83L4 21.41c.39.39.9.59 1.41.59.51 0 1.02-.2 1.41-.59l7.78-7.78 2.81-2.81c.8-.78.8-2.07 0-2.86zM5.41 20L4 18.59l7.72-7.72 1.47 1.35L5.41 20z\"/>\n",
              "  </svg>\n",
              "      </button>\n",
              "      \n",
              "  <style>\n",
              "    .colab-df-container {\n",
              "      display:flex;\n",
              "      flex-wrap:wrap;\n",
              "      gap: 12px;\n",
              "    }\n",
              "\n",
              "    .colab-df-convert {\n",
              "      background-color: #E8F0FE;\n",
              "      border: none;\n",
              "      border-radius: 50%;\n",
              "      cursor: pointer;\n",
              "      display: none;\n",
              "      fill: #1967D2;\n",
              "      height: 32px;\n",
              "      padding: 0 0 0 0;\n",
              "      width: 32px;\n",
              "    }\n",
              "\n",
              "    .colab-df-convert:hover {\n",
              "      background-color: #E2EBFA;\n",
              "      box-shadow: 0px 1px 2px rgba(60, 64, 67, 0.3), 0px 1px 3px 1px rgba(60, 64, 67, 0.15);\n",
              "      fill: #174EA6;\n",
              "    }\n",
              "\n",
              "    [theme=dark] .colab-df-convert {\n",
              "      background-color: #3B4455;\n",
              "      fill: #D2E3FC;\n",
              "    }\n",
              "\n",
              "    [theme=dark] .colab-df-convert:hover {\n",
              "      background-color: #434B5C;\n",
              "      box-shadow: 0px 1px 3px 1px rgba(0, 0, 0, 0.15);\n",
              "      filter: drop-shadow(0px 1px 2px rgba(0, 0, 0, 0.3));\n",
              "      fill: #FFFFFF;\n",
              "    }\n",
              "  </style>\n",
              "\n",
              "      <script>\n",
              "        const buttonEl =\n",
              "          document.querySelector('#df-95d18d65-cf20-4aa3-b9f3-535ffe089d1a button.colab-df-convert');\n",
              "        buttonEl.style.display =\n",
              "          google.colab.kernel.accessAllowed ? 'block' : 'none';\n",
              "\n",
              "        async function convertToInteractive(key) {\n",
              "          const element = document.querySelector('#df-95d18d65-cf20-4aa3-b9f3-535ffe089d1a');\n",
              "          const dataTable =\n",
              "            await google.colab.kernel.invokeFunction('convertToInteractive',\n",
              "                                                     [key], {});\n",
              "          if (!dataTable) return;\n",
              "\n",
              "          const docLinkHtml = 'Like what you see? Visit the ' +\n",
              "            '<a target=\"_blank\" href=https://colab.research.google.com/notebooks/data_table.ipynb>data table notebook</a>'\n",
              "            + ' to learn more about interactive tables.';\n",
              "          element.innerHTML = '';\n",
              "          dataTable['output_type'] = 'display_data';\n",
              "          await google.colab.output.renderOutput(dataTable, element);\n",
              "          const docLink = document.createElement('div');\n",
              "          docLink.innerHTML = docLinkHtml;\n",
              "          element.appendChild(docLink);\n",
              "        }\n",
              "      </script>\n",
              "    </div>\n",
              "  </div>\n",
              "  "
            ]
          },
          "metadata": {},
          "execution_count": 228
        }
      ]
    },
    {
      "cell_type": "code",
      "source": [
        "Sum_Score = df.sum(axis = 0)\n",
        "Sum_Score.Score"
      ],
      "metadata": {
        "colab": {
          "base_uri": "https://localhost:8080/"
        },
        "id": "Il_8nbfvFeb0",
        "outputId": "aa32800c-983e-4be8-a902-074d27bf13b0"
      },
      "execution_count": null,
      "outputs": [
        {
          "output_type": "execute_result",
          "data": {
            "text/plain": [
              "-3638"
            ]
          },
          "metadata": {},
          "execution_count": 229
        }
      ]
    }
  ]
}