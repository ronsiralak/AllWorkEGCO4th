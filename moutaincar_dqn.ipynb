{
  "nbformat": 4,
  "nbformat_minor": 0,
  "metadata": {
    "colab": {
      "provenance": [],
      "collapsed_sections": [
        "3ZvU4yVaQKVf"
      ],
      "toc_visible": true
    },
    "kernelspec": {
      "name": "python3",
      "display_name": "Python 3"
    },
    "accelerator": "GPU"
  },
  "cells": [
    {
      "cell_type": "markdown",
      "metadata": {
        "id": "3ZvU4yVaQKVf"
      },
      "source": [
        "# Prepare environment"
      ]
    },
    {
      "cell_type": "code",
      "metadata": {
        "id": "Mvu33nvg_duE"
      },
      "source": [
        "!pip install gym pyvirtualdisplay > /dev/null 2>&1\n",
        "!apt-get install -y xvfb python-opengl ffmpeg > /dev/null 2>&1"
      ],
      "execution_count": null,
      "outputs": []
    },
    {
      "cell_type": "code",
      "metadata": {
        "id": "twxFijwF_gKA",
        "outputId": "f8b85116-9eac-4a05-a875-a37874306f92",
        "colab": {
          "base_uri": "https://localhost:8080/"
        }
      },
      "source": [
        "!apt-get update > /dev/null 2>&1\n",
        "!apt-get install cmake > /dev/null 2>&1\n",
        "!pip install --upgrade setuptools 2>&1\n",
        "!pip install ez_setup > /dev/null 2>&1\n",
        "!pip install gym[atari] > /dev/null 2>&1"
      ],
      "execution_count": null,
      "outputs": [
        {
          "output_type": "stream",
          "name": "stdout",
          "text": [
            "Requirement already satisfied: setuptools in /usr/local/lib/python3.7/dist-packages (62.1.0)\n"
          ]
        }
      ]
    },
    {
      "cell_type": "code",
      "metadata": {
        "id": "MnigfBBS_gc2"
      },
      "source": [
        "import gym\n",
        "from gym import logger as gymlogger\n",
        "from gym.wrappers import Monitor\n",
        "gymlogger.set_level(40) #error only\n",
        "import numpy as np\n",
        "import matplotlib\n",
        "import matplotlib.pyplot as plt\n",
        "%matplotlib inline\n",
        "import random\n",
        "import glob\n",
        "import io\n",
        "import base64\n",
        "from IPython.display import HTML\n",
        "\n",
        "from IPython import display as ipythondisplay"
      ],
      "execution_count": null,
      "outputs": []
    },
    {
      "cell_type": "code",
      "metadata": {
        "id": "Hf0eXrsqEL6d",
        "outputId": "3978a4d8-b81c-46a7-d277-89ef2d7768a2",
        "colab": {
          "base_uri": "https://localhost:8080/"
        }
      },
      "source": [
        "from pyvirtualdisplay import Display\n",
        "display = Display(visible=0, size=(1400, 900))\n",
        "display.start()"
      ],
      "execution_count": null,
      "outputs": [
        {
          "output_type": "execute_result",
          "data": {
            "text/plain": [
              "<pyvirtualdisplay.display.Display at 0x7f0481cceed0>"
            ]
          },
          "metadata": {},
          "execution_count": 9
        }
      ]
    },
    {
      "cell_type": "code",
      "metadata": {
        "id": "HdFa-oXh_usW"
      },
      "source": [
        "\"\"\"\n",
        "Utility functions to enable video recording of gym environment and displaying it\n",
        "To enable video, just do \"env = wrap_env(env)\"\"\n",
        "\"\"\"\n",
        "\n",
        "def show_video():\n",
        "  mp4list = glob.glob('video/*.mp4')\n",
        "  if len(mp4list) > 0:\n",
        "    mp4 = mp4list[0]\n",
        "    video = io.open(mp4, 'r+b').read()\n",
        "    encoded = base64.b64encode(video)\n",
        "    ipythondisplay.display(HTML(data='''<video alt=\"test\" autoplay \n",
        "                loop controls style=\"height: 400px;\">\n",
        "                <source src=\"data:video/mp4;base64,{0}\" type=\"video/mp4\" />\n",
        "             </video>'''.format(encoded.decode('ascii'))))\n",
        "  else: \n",
        "    print(\"Could not find video\")\n",
        "    \n",
        "\n",
        "def wrap_env(env):\n",
        "  env = Monitor(env, './video', force=True)\n",
        "  return env"
      ],
      "execution_count": null,
      "outputs": []
    },
    {
      "cell_type": "markdown",
      "metadata": {
        "id": "UozYW9SiHMbQ"
      },
      "source": [
        "# DQN agent"
      ]
    },
    {
      "cell_type": "code",
      "metadata": {
        "id": "Mi71r9zfH8sX"
      },
      "source": [
        "import random\n",
        "import gym\n",
        "import numpy as np\n",
        "from collections import deque\n",
        "import tensorflow as tf\n",
        "from tensorflow.keras.models import Sequential\n",
        "from tensorflow.keras.layers import Dense\n",
        "from tensorflow.keras.optimizers import Adam"
      ],
      "execution_count": null,
      "outputs": []
    },
    {
      "cell_type": "code",
      "metadata": {
        "id": "PTBxbRcSUimV"
      },
      "source": [
        "class DQNAgent:\n",
        "    def __init__(self, state_size, action_size):\n",
        "        self.state_size = state_size\n",
        "        self.action_size = action_size\n",
        "        self.memory = deque(maxlen=2000)\n",
        "        self.gamma = 0.95    # discount rate\n",
        "        self.epsilon = 1.0  # exploration rate\n",
        "        self.epsilon_min = 0.01\n",
        "        self.epsilon_decay = 0.995\n",
        "        self.learning_rate = 0.001\n",
        "        self.model = self._build_model()\n",
        "\n",
        "    def _build_model(self):\n",
        "        # Neural Net for Deep-Q learning Model\n",
        "        model = Sequential()\n",
        "        model.add(Dense(256, input_shape = (None,self.state_size), activation='relu'))\n",
        "        model.add(Dense(128, activation='relu'))\n",
        "        model.add(Dense(self.action_size, activation='linear'))\n",
        "        model.compile(loss='mse', optimizer=Adam(lr=self.learning_rate))\n",
        "        return model\n",
        "\n",
        "    def memorize(self, state, action, reward, next_state, done):\n",
        "        self.memory.append((state, action, reward, next_state, done))\n",
        "\n",
        "    def act(self, state):\n",
        "        if np.random.rand() <= self.epsilon:\n",
        "            return random.randrange(self.action_size)\n",
        "        act_values = self.model.predict(state)\n",
        "        return np.argmax(act_values[0])  # returns action\n",
        "    \n",
        "    def replay(self, batch_size):\n",
        "      minibatch = random.sample(self.memory, batch_size)\n",
        "      X_cur_states = []\n",
        "      X_next_states = []\n",
        "      for index, sample in enumerate(minibatch):\n",
        "        state, action, reward, next_state, done = sample\n",
        "        X_cur_states.append(state)\n",
        "        X_next_states.append(next_state)\n",
        "\n",
        "      X_cur_states = np.array(X_cur_states)\n",
        "      X_next_states = np.array(X_next_states)\n",
        "\n",
        "\n",
        "      cur_action_values = self.model.predict(X_cur_states)\n",
        "      next_action_values = self.model.predict(X_next_states)\n",
        "\n",
        "      for index, sample in enumerate(minibatch):\n",
        "        state, action, reward, next_state, done = sample\n",
        "        if not done:\n",
        "          cur_action_values[index][0][action] = reward + self.gamma * np.amax(next_action_values[index])\n",
        "        else:\n",
        "          cur_action_values[index][0][action] = reward\n",
        "\n",
        "      self.model.fit(X_cur_states, cur_action_values, verbose=0)\n",
        "      if self.epsilon > self.epsilon_min:\n",
        "        self.epsilon *= self.epsilon_decay\n",
        "        \n",
        "    def load(self, name):\n",
        "        self.model.load_weights(name)\n",
        "\n",
        "    def save(self, name):\n",
        "        self.model.save_weights(name)"
      ],
      "execution_count": null,
      "outputs": []
    },
    {
      "cell_type": "code",
      "metadata": {
        "id": "0qmGcAlPHh2V"
      },
      "source": [
        "env = wrap_env(gym.make('MountainCar-v0'))\n",
        "state_size = env.observation_space.shape[0]\n",
        "action_size = env.action_space.n"
      ],
      "execution_count": null,
      "outputs": []
    },
    {
      "cell_type": "markdown",
      "metadata": {
        "id": "f7PwL_E1L2mN"
      },
      "source": [
        "# Load Pretrained Model\n",
        "\n",
        "**Do not forget to reset epsilon to 0.**"
      ]
    },
    {
      "cell_type": "code",
      "metadata": {
        "id": "nUhBXg0zKEdN"
      },
      "source": [
        "#agent.load('dqn_moutaincar.h5')\n",
        "#agent.epsilon = 0"
      ],
      "execution_count": null,
      "outputs": []
    },
    {
      "cell_type": "markdown",
      "metadata": {
        "id": "e64vSmOGMHBR"
      },
      "source": [
        "# Train model"
      ]
    },
    {
      "cell_type": "code",
      "metadata": {
        "id": "NnHl1kHpmte0",
        "colab": {
          "base_uri": "https://localhost:8080/"
        },
        "outputId": "e4a91f9a-3e73-4781-c550-d3a2d5b0d1d6"
      },
      "source": [
        "batch_size = 256\n",
        "EPISODES = 50\n",
        "\n",
        "scores = []\n",
        "global_max_score = -1e10\n",
        "global_max_height = -1e10\n",
        "\n",
        "agent = DQNAgent(state_size, action_size)"
      ],
      "execution_count": null,
      "outputs": [
        {
          "output_type": "stream",
          "name": "stderr",
          "text": [
            "/usr/local/lib/python3.7/dist-packages/keras/optimizer_v2/adam.py:105: UserWarning: The `lr` argument is deprecated, use `learning_rate` instead.\n",
            "  super(Adam, self).__init__(name, **kwargs)\n"
          ]
        }
      ]
    },
    {
      "cell_type": "code",
      "metadata": {
        "id": "G-SkhK0lIGFs",
        "outputId": "33533d4e-e9b2-45bd-ba15-c39b8ddd8196",
        "colab": {
          "base_uri": "https://localhost:8080/"
        }
      },
      "source": [
        "for e in range(1,EPISODES+1):\n",
        "        total_score = 0\n",
        "        step = 0\n",
        "        max_height = -1e10\n",
        "        state = env.reset()\n",
        "        state = np.reshape(state, [1, state_size])\n",
        "        done = False\n",
        "\n",
        "        while not done:\n",
        "            # env.render()\n",
        "            action = agent.act(state)\n",
        "            next_state, reward, done, _ = env.step(action)\n",
        "            \n",
        "            modified_reward = reward + 0.8 * abs(next_state[1]) - abs(state[0][1])\n",
        "            \n",
        "            total_score += reward\n",
        "            max_height = max(max_height, next_state[0])\n",
        "\n",
        "            next_state = np.reshape(next_state, [1, state_size])\n",
        "            agent.memorize(state, action, modified_reward, next_state, done)\n",
        "            state = next_state\n",
        "\n",
        "            if len(agent.memory) > batch_size:\n",
        "                agent.replay(batch_size)\n",
        "\n",
        "        scores.append(total_score)\n",
        "        global_max_score = max(global_max_score, total_score)\n",
        "        global_max_height = max(global_max_height, max_height)\n",
        "        if not (e % 1):\n",
        "          print(\"Episode: {}/{}\".format(e, EPISODES))\n",
        "          print(\" Total score for episode {} : {}, Max height : {}\".format(e, total_score, max_height))\n",
        "          print(\" GLOBAL MAXIMUMS: Max score : {}, Max height  : {}\".format(global_max_score, global_max_height))\n",
        "          print('-' * 150)\n",
        "\n",
        "env.close()"
      ],
      "execution_count": null,
      "outputs": [
        {
          "output_type": "stream",
          "name": "stdout",
          "text": [
            "Episode: 1/50\n",
            " Total score for episode 1 : -200.0, Max height : -0.41177092627397005\n",
            " GLOBAL MAXIMUMS: Max score : -200.0, Max height  : -0.41177092627397005\n",
            "------------------------------------------------------------------------------------------------------------------------------------------------------\n",
            "WARNING:tensorflow:Model was constructed with shape (None, None, 2) for input KerasTensor(type_spec=TensorSpec(shape=(None, None, 2), dtype=tf.float32, name='dense_3_input'), name='dense_3_input', description=\"created by layer 'dense_3_input'\"), but it was called on an input with incompatible shape (None, 2).\n",
            "Episode: 2/50\n",
            " Total score for episode 2 : -200.0, Max height : -0.3430364910627893\n",
            " GLOBAL MAXIMUMS: Max score : -200.0, Max height  : -0.3430364910627893\n",
            "------------------------------------------------------------------------------------------------------------------------------------------------------\n",
            "Episode: 3/50\n",
            " Total score for episode 3 : -200.0, Max height : -0.33022654712485994\n",
            " GLOBAL MAXIMUMS: Max score : -200.0, Max height  : -0.33022654712485994\n",
            "------------------------------------------------------------------------------------------------------------------------------------------------------\n",
            "Episode: 4/50\n",
            " Total score for episode 4 : -200.0, Max height : -0.28336924255102014\n",
            " GLOBAL MAXIMUMS: Max score : -200.0, Max height  : -0.28336924255102014\n",
            "------------------------------------------------------------------------------------------------------------------------------------------------------\n",
            "Episode: 5/50\n",
            " Total score for episode 5 : -200.0, Max height : -0.26671409035045646\n",
            " GLOBAL MAXIMUMS: Max score : -200.0, Max height  : -0.26671409035045646\n",
            "------------------------------------------------------------------------------------------------------------------------------------------------------\n",
            "Episode: 6/50\n",
            " Total score for episode 6 : -200.0, Max height : -0.1036528052717273\n",
            " GLOBAL MAXIMUMS: Max score : -200.0, Max height  : -0.1036528052717273\n",
            "------------------------------------------------------------------------------------------------------------------------------------------------------\n",
            "Episode: 7/50\n",
            " Total score for episode 7 : -200.0, Max height : -0.290840948354515\n",
            " GLOBAL MAXIMUMS: Max score : -200.0, Max height  : -0.1036528052717273\n",
            "------------------------------------------------------------------------------------------------------------------------------------------------------\n",
            "Episode: 8/50\n",
            " Total score for episode 8 : -200.0, Max height : -0.278485733062357\n",
            " GLOBAL MAXIMUMS: Max score : -200.0, Max height  : -0.1036528052717273\n",
            "------------------------------------------------------------------------------------------------------------------------------------------------------\n",
            "Episode: 9/50\n",
            " Total score for episode 9 : -200.0, Max height : -0.33885848925645107\n",
            " GLOBAL MAXIMUMS: Max score : -200.0, Max height  : -0.1036528052717273\n",
            "------------------------------------------------------------------------------------------------------------------------------------------------------\n",
            "Episode: 10/50\n",
            " Total score for episode 10 : -200.0, Max height : -0.3390294424267162\n",
            " GLOBAL MAXIMUMS: Max score : -200.0, Max height  : -0.1036528052717273\n",
            "------------------------------------------------------------------------------------------------------------------------------------------------------\n",
            "Episode: 11/50\n",
            " Total score for episode 11 : -200.0, Max height : -0.24606551842563568\n",
            " GLOBAL MAXIMUMS: Max score : -200.0, Max height  : -0.1036528052717273\n",
            "------------------------------------------------------------------------------------------------------------------------------------------------------\n",
            "Episode: 12/50\n",
            " Total score for episode 12 : -200.0, Max height : -0.34062419775624375\n",
            " GLOBAL MAXIMUMS: Max score : -200.0, Max height  : -0.1036528052717273\n",
            "------------------------------------------------------------------------------------------------------------------------------------------------------\n",
            "Episode: 13/50\n",
            " Total score for episode 13 : -200.0, Max height : -0.3290821730907601\n",
            " GLOBAL MAXIMUMS: Max score : -200.0, Max height  : -0.1036528052717273\n",
            "------------------------------------------------------------------------------------------------------------------------------------------------------\n",
            "Episode: 14/50\n",
            " Total score for episode 14 : -200.0, Max height : -0.35608988711071143\n",
            " GLOBAL MAXIMUMS: Max score : -200.0, Max height  : -0.1036528052717273\n",
            "------------------------------------------------------------------------------------------------------------------------------------------------------\n",
            "Episode: 15/50\n",
            " Total score for episode 15 : -200.0, Max height : -0.3220510648781325\n",
            " GLOBAL MAXIMUMS: Max score : -200.0, Max height  : -0.1036528052717273\n",
            "------------------------------------------------------------------------------------------------------------------------------------------------------\n",
            "Episode: 16/50\n",
            " Total score for episode 16 : -200.0, Max height : -0.39223836117266736\n",
            " GLOBAL MAXIMUMS: Max score : -200.0, Max height  : -0.1036528052717273\n",
            "------------------------------------------------------------------------------------------------------------------------------------------------------\n",
            "Episode: 17/50\n",
            " Total score for episode 17 : -200.0, Max height : -0.23049186405157\n",
            " GLOBAL MAXIMUMS: Max score : -200.0, Max height  : -0.1036528052717273\n",
            "------------------------------------------------------------------------------------------------------------------------------------------------------\n",
            "Episode: 18/50\n",
            " Total score for episode 18 : -200.0, Max height : -0.290843346034175\n",
            " GLOBAL MAXIMUMS: Max score : -200.0, Max height  : -0.1036528052717273\n",
            "------------------------------------------------------------------------------------------------------------------------------------------------------\n",
            "Episode: 19/50\n",
            " Total score for episode 19 : -200.0, Max height : -0.44928864931495593\n",
            " GLOBAL MAXIMUMS: Max score : -200.0, Max height  : -0.1036528052717273\n",
            "------------------------------------------------------------------------------------------------------------------------------------------------------\n",
            "Episode: 20/50\n",
            " Total score for episode 20 : -200.0, Max height : 0.05941625867911923\n",
            " GLOBAL MAXIMUMS: Max score : -200.0, Max height  : 0.05941625867911923\n",
            "------------------------------------------------------------------------------------------------------------------------------------------------------\n",
            "Episode: 21/50\n",
            " Total score for episode 21 : -200.0, Max height : -0.4621028060129633\n",
            " GLOBAL MAXIMUMS: Max score : -200.0, Max height  : 0.05941625867911923\n",
            "------------------------------------------------------------------------------------------------------------------------------------------------------\n",
            "Episode: 22/50\n",
            " Total score for episode 22 : -200.0, Max height : -0.2150373172175575\n",
            " GLOBAL MAXIMUMS: Max score : -200.0, Max height  : 0.05941625867911923\n",
            "------------------------------------------------------------------------------------------------------------------------------------------------------\n",
            "Episode: 23/50\n",
            " Total score for episode 23 : -200.0, Max height : -0.47565993946231605\n",
            " GLOBAL MAXIMUMS: Max score : -200.0, Max height  : 0.05941625867911923\n",
            "------------------------------------------------------------------------------------------------------------------------------------------------------\n",
            "Episode: 24/50\n",
            " Total score for episode 24 : -200.0, Max height : -0.44208943176554183\n",
            " GLOBAL MAXIMUMS: Max score : -200.0, Max height  : 0.05941625867911923\n",
            "------------------------------------------------------------------------------------------------------------------------------------------------------\n",
            "Episode: 25/50\n",
            " Total score for episode 25 : -200.0, Max height : -0.4382212591089413\n",
            " GLOBAL MAXIMUMS: Max score : -200.0, Max height  : 0.05941625867911923\n",
            "------------------------------------------------------------------------------------------------------------------------------------------------------\n",
            "Episode: 26/50\n",
            " Total score for episode 26 : -200.0, Max height : -0.46554536705887095\n",
            " GLOBAL MAXIMUMS: Max score : -200.0, Max height  : 0.05941625867911923\n",
            "------------------------------------------------------------------------------------------------------------------------------------------------------\n",
            "Episode: 27/50\n",
            " Total score for episode 27 : -200.0, Max height : -0.4628961798203855\n",
            " GLOBAL MAXIMUMS: Max score : -200.0, Max height  : 0.05941625867911923\n",
            "------------------------------------------------------------------------------------------------------------------------------------------------------\n",
            "Episode: 28/50\n",
            " Total score for episode 28 : -200.0, Max height : -0.4657200376955266\n",
            " GLOBAL MAXIMUMS: Max score : -200.0, Max height  : 0.05941625867911923\n",
            "------------------------------------------------------------------------------------------------------------------------------------------------------\n",
            "Episode: 29/50\n",
            " Total score for episode 29 : -200.0, Max height : -0.4307419790617849\n",
            " GLOBAL MAXIMUMS: Max score : -200.0, Max height  : 0.05941625867911923\n",
            "------------------------------------------------------------------------------------------------------------------------------------------------------\n",
            "Episode: 30/50\n",
            " Total score for episode 30 : -200.0, Max height : -0.42549071741498734\n",
            " GLOBAL MAXIMUMS: Max score : -200.0, Max height  : 0.05941625867911923\n",
            "------------------------------------------------------------------------------------------------------------------------------------------------------\n",
            "Episode: 31/50\n",
            " Total score for episode 31 : -200.0, Max height : -0.4372213196814738\n",
            " GLOBAL MAXIMUMS: Max score : -200.0, Max height  : 0.05941625867911923\n",
            "------------------------------------------------------------------------------------------------------------------------------------------------------\n",
            "Episode: 32/50\n",
            " Total score for episode 32 : -200.0, Max height : -0.4252460408061297\n",
            " GLOBAL MAXIMUMS: Max score : -200.0, Max height  : 0.05941625867911923\n",
            "------------------------------------------------------------------------------------------------------------------------------------------------------\n",
            "Episode: 33/50\n",
            " Total score for episode 33 : -200.0, Max height : -0.452623976692505\n",
            " GLOBAL MAXIMUMS: Max score : -200.0, Max height  : 0.05941625867911923\n",
            "------------------------------------------------------------------------------------------------------------------------------------------------------\n",
            "Episode: 34/50\n",
            " Total score for episode 34 : -200.0, Max height : -0.4597372205819865\n",
            " GLOBAL MAXIMUMS: Max score : -200.0, Max height  : 0.05941625867911923\n",
            "------------------------------------------------------------------------------------------------------------------------------------------------------\n",
            "Episode: 35/50\n",
            " Total score for episode 35 : -200.0, Max height : -0.48715963944744195\n",
            " GLOBAL MAXIMUMS: Max score : -200.0, Max height  : 0.05941625867911923\n",
            "------------------------------------------------------------------------------------------------------------------------------------------------------\n",
            "Episode: 36/50\n",
            " Total score for episode 36 : -200.0, Max height : -0.4092986485647947\n",
            " GLOBAL MAXIMUMS: Max score : -200.0, Max height  : 0.05941625867911923\n",
            "------------------------------------------------------------------------------------------------------------------------------------------------------\n",
            "Episode: 37/50\n",
            " Total score for episode 37 : -200.0, Max height : -0.4444703744055756\n",
            " GLOBAL MAXIMUMS: Max score : -200.0, Max height  : 0.05941625867911923\n",
            "------------------------------------------------------------------------------------------------------------------------------------------------------\n",
            "Episode: 38/50\n",
            " Total score for episode 38 : -200.0, Max height : -0.43162106808751993\n",
            " GLOBAL MAXIMUMS: Max score : -200.0, Max height  : 0.05941625867911923\n",
            "------------------------------------------------------------------------------------------------------------------------------------------------------\n",
            "Episode: 39/50\n",
            " Total score for episode 39 : -200.0, Max height : -0.4752397357043012\n",
            " GLOBAL MAXIMUMS: Max score : -200.0, Max height  : 0.05941625867911923\n",
            "------------------------------------------------------------------------------------------------------------------------------------------------------\n",
            "Episode: 40/50\n",
            " Total score for episode 40 : -200.0, Max height : -0.45829308286494586\n",
            " GLOBAL MAXIMUMS: Max score : -200.0, Max height  : 0.05941625867911923\n",
            "------------------------------------------------------------------------------------------------------------------------------------------------------\n",
            "Episode: 41/50\n",
            " Total score for episode 41 : -200.0, Max height : -0.4312953499791899\n",
            " GLOBAL MAXIMUMS: Max score : -200.0, Max height  : 0.05941625867911923\n",
            "------------------------------------------------------------------------------------------------------------------------------------------------------\n",
            "Episode: 42/50\n",
            " Total score for episode 42 : -200.0, Max height : -0.4347845469354285\n",
            " GLOBAL MAXIMUMS: Max score : -200.0, Max height  : 0.05941625867911923\n",
            "------------------------------------------------------------------------------------------------------------------------------------------------------\n",
            "Episode: 43/50\n",
            " Total score for episode 43 : -200.0, Max height : -0.38065893518568783\n",
            " GLOBAL MAXIMUMS: Max score : -200.0, Max height  : 0.05941625867911923\n",
            "------------------------------------------------------------------------------------------------------------------------------------------------------\n",
            "Episode: 44/50\n",
            " Total score for episode 44 : -200.0, Max height : -0.46492097736263466\n",
            " GLOBAL MAXIMUMS: Max score : -200.0, Max height  : 0.05941625867911923\n",
            "------------------------------------------------------------------------------------------------------------------------------------------------------\n",
            "Episode: 45/50\n",
            " Total score for episode 45 : -200.0, Max height : -0.4401160257340891\n",
            " GLOBAL MAXIMUMS: Max score : -200.0, Max height  : 0.05941625867911923\n",
            "------------------------------------------------------------------------------------------------------------------------------------------------------\n",
            "Episode: 46/50\n",
            " Total score for episode 46 : -200.0, Max height : -0.42426027265632266\n",
            " GLOBAL MAXIMUMS: Max score : -200.0, Max height  : 0.05941625867911923\n",
            "------------------------------------------------------------------------------------------------------------------------------------------------------\n",
            "Episode: 47/50\n",
            " Total score for episode 47 : -200.0, Max height : -0.42283064457344965\n",
            " GLOBAL MAXIMUMS: Max score : -200.0, Max height  : 0.05941625867911923\n",
            "------------------------------------------------------------------------------------------------------------------------------------------------------\n",
            "Episode: 48/50\n",
            " Total score for episode 48 : -200.0, Max height : -0.4246635223033863\n",
            " GLOBAL MAXIMUMS: Max score : -200.0, Max height  : 0.05941625867911923\n",
            "------------------------------------------------------------------------------------------------------------------------------------------------------\n",
            "Episode: 49/50\n",
            " Total score for episode 49 : -200.0, Max height : -0.3865699076139198\n",
            " GLOBAL MAXIMUMS: Max score : -200.0, Max height  : 0.05941625867911923\n",
            "------------------------------------------------------------------------------------------------------------------------------------------------------\n",
            "Episode: 50/50\n",
            " Total score for episode 50 : -200.0, Max height : -0.356473827201312\n",
            " GLOBAL MAXIMUMS: Max score : -200.0, Max height  : 0.05941625867911923\n",
            "------------------------------------------------------------------------------------------------------------------------------------------------------\n"
          ]
        }
      ]
    },
    {
      "cell_type": "markdown",
      "metadata": {
        "id": "P_xKBsSVMOPJ"
      },
      "source": [
        "# Test model"
      ]
    },
    {
      "cell_type": "code",
      "metadata": {
        "id": "jBSYeJ6XQ6VK"
      },
      "source": [
        "env = wrap_env(gym.make('MountainCar-v0'))\n",
        "state = env.reset()\n",
        "state = np.reshape(state, [1, state_size])\n",
        "done = False\n",
        "\n",
        "while not done:\n",
        "  env.render()  \n",
        "  action = agent.act(state)\n",
        "  next_state, reward, done, _ = env.step(action)\n",
        "  next_state = np.reshape(next_state, [1, state_size])\n",
        "  state = next_state\n",
        "\n",
        "env.close()\n",
        "show_video()"
      ],
      "execution_count": null,
      "outputs": []
    },
    {
      "cell_type": "code",
      "metadata": {
        "id": "5G9iwfM3kjbD"
      },
      "source": [
        "agent.save('dqn_moutaincar.h5')"
      ],
      "execution_count": null,
      "outputs": []
    },
    {
      "cell_type": "code",
      "metadata": {
        "id": "rjaR7qfzInGF"
      },
      "source": [],
      "execution_count": null,
      "outputs": []
    }
  ]
}